{
 "cells": [
  {
   "cell_type": "code",
   "execution_count": 1,
   "id": "309f80bb-5199-4639-ae00-0725c52418bf",
   "metadata": {},
   "outputs": [],
   "source": [
    "import pandas as pd\n",
    "dados = pd.read_csv('titanic_train.csv')"
   ]
  },
  {
   "cell_type": "code",
   "execution_count": 2,
   "id": "bf9a9c9c-0d91-4cb2-89fc-fa28b1aead26",
   "metadata": {},
   "outputs": [
    {
     "name": "stdout",
     "output_type": "stream",
     "text": [
      "<class 'pandas.core.frame.DataFrame'>\n",
      "RangeIndex: 891 entries, 0 to 890\n",
      "Data columns (total 12 columns):\n",
      " #   Column       Non-Null Count  Dtype  \n",
      "---  ------       --------------  -----  \n",
      " 0   PassengerId  891 non-null    int64  \n",
      " 1   Survived     891 non-null    int64  \n",
      " 2   Pclass       891 non-null    int64  \n",
      " 3   Name         891 non-null    object \n",
      " 4   Sex          891 non-null    object \n",
      " 5   Age          714 non-null    float64\n",
      " 6   SibSp        891 non-null    int64  \n",
      " 7   Parch        891 non-null    int64  \n",
      " 8   Ticket       891 non-null    object \n",
      " 9   Fare         891 non-null    float64\n",
      " 10  Cabin        204 non-null    object \n",
      " 11  Embarked     889 non-null    object \n",
      "dtypes: float64(2), int64(5), object(5)\n",
      "memory usage: 83.7+ KB\n"
     ]
    }
   ],
   "source": [
    "dados.info()"
   ]
  },
  {
   "cell_type": "code",
   "execution_count": 3,
   "id": "599d570a-eb94-4417-9b6e-78f329bfcdb8",
   "metadata": {
    "scrolled": true
   },
   "outputs": [],
   "source": [
    "# Removendo coluna cabin\n",
    "dados = dados.drop('Cabin', axis=1)"
   ]
  },
  {
   "cell_type": "code",
   "execution_count": 4,
   "id": "d3acd7ee-f0f9-4f5c-b940-f993ec11b7ee",
   "metadata": {},
   "outputs": [
    {
     "name": "stdout",
     "output_type": "stream",
     "text": [
      "<class 'pandas.core.frame.DataFrame'>\n",
      "RangeIndex: 891 entries, 0 to 890\n",
      "Data columns (total 11 columns):\n",
      " #   Column       Non-Null Count  Dtype  \n",
      "---  ------       --------------  -----  \n",
      " 0   PassengerId  891 non-null    int64  \n",
      " 1   Survived     891 non-null    int64  \n",
      " 2   Pclass       891 non-null    int64  \n",
      " 3   Name         891 non-null    object \n",
      " 4   Sex          891 non-null    object \n",
      " 5   Age          714 non-null    float64\n",
      " 6   SibSp        891 non-null    int64  \n",
      " 7   Parch        891 non-null    int64  \n",
      " 8   Ticket       891 non-null    object \n",
      " 9   Fare         891 non-null    float64\n",
      " 10  Embarked     889 non-null    object \n",
      "dtypes: float64(2), int64(5), object(4)\n",
      "memory usage: 76.7+ KB\n"
     ]
    }
   ],
   "source": [
    "dados.info()"
   ]
  },
  {
   "cell_type": "code",
   "execution_count": 5,
   "id": "830df9da-87d8-4aef-ac8d-5dad5e78708e",
   "metadata": {},
   "outputs": [],
   "source": [
    "# Removendo valores nulos\n",
    "dados = dados.dropna()"
   ]
  },
  {
   "cell_type": "code",
   "execution_count": 6,
   "id": "1b6c33a7-3373-4a32-a303-9b4d4e2fd609",
   "metadata": {},
   "outputs": [
    {
     "name": "stdout",
     "output_type": "stream",
     "text": [
      "<class 'pandas.core.frame.DataFrame'>\n",
      "Index: 712 entries, 0 to 890\n",
      "Data columns (total 11 columns):\n",
      " #   Column       Non-Null Count  Dtype  \n",
      "---  ------       --------------  -----  \n",
      " 0   PassengerId  712 non-null    int64  \n",
      " 1   Survived     712 non-null    int64  \n",
      " 2   Pclass       712 non-null    int64  \n",
      " 3   Name         712 non-null    object \n",
      " 4   Sex          712 non-null    object \n",
      " 5   Age          712 non-null    float64\n",
      " 6   SibSp        712 non-null    int64  \n",
      " 7   Parch        712 non-null    int64  \n",
      " 8   Ticket       712 non-null    object \n",
      " 9   Fare         712 non-null    float64\n",
      " 10  Embarked     712 non-null    object \n",
      "dtypes: float64(2), int64(5), object(4)\n",
      "memory usage: 66.8+ KB\n"
     ]
    }
   ],
   "source": [
    "dados.info()"
   ]
  },
  {
   "cell_type": "code",
   "execution_count": 7,
   "id": "4cbae139-e003-4cb0-bb60-b100eccb2c8b",
   "metadata": {},
   "outputs": [],
   "source": [
    "# Selecionando todos que tem tipo objeto\n",
    "colunas = dados.dtypes[dados.dtypes.values == 'object'].index"
   ]
  },
  {
   "cell_type": "code",
   "execution_count": 8,
   "id": "28ac9a64-5bcd-4899-85ed-f9ee003baa85",
   "metadata": {},
   "outputs": [],
   "source": [
    "dados = dados.drop(colunas, axis=1)"
   ]
  },
  {
   "cell_type": "code",
   "execution_count": 9,
   "id": "465489ac-dbf9-4a20-a1cd-513594997569",
   "metadata": {},
   "outputs": [
    {
     "name": "stdout",
     "output_type": "stream",
     "text": [
      "<class 'pandas.core.frame.DataFrame'>\n",
      "Index: 712 entries, 0 to 890\n",
      "Data columns (total 7 columns):\n",
      " #   Column       Non-Null Count  Dtype  \n",
      "---  ------       --------------  -----  \n",
      " 0   PassengerId  712 non-null    int64  \n",
      " 1   Survived     712 non-null    int64  \n",
      " 2   Pclass       712 non-null    int64  \n",
      " 3   Age          712 non-null    float64\n",
      " 4   SibSp        712 non-null    int64  \n",
      " 5   Parch        712 non-null    int64  \n",
      " 6   Fare         712 non-null    float64\n",
      "dtypes: float64(2), int64(5)\n",
      "memory usage: 44.5 KB\n"
     ]
    }
   ],
   "source": [
    "dados.info()"
   ]
  },
  {
   "cell_type": "code",
   "execution_count": 10,
   "id": "49e305a1-732c-43fe-bfd5-58bdfe2b9682",
   "metadata": {},
   "outputs": [],
   "source": [
    "### Scikit-Learn\n",
    "# Definindo x e y para o treino\n",
    "x = dados.drop('Survived', axis = 1) # Usado para fazer a previsão\n",
    "y = dados.Survived # Valor que se quer prever"
   ]
  },
  {
   "cell_type": "code",
   "execution_count": 11,
   "id": "4e0e1e91-5573-4ae5-a78c-04196cbe4fa3",
   "metadata": {},
   "outputs": [],
   "source": [
    "# Importando KNN\n",
    "from sklearn.neighbors import KNeighborsClassifier\n",
    "neigh = KNeighborsClassifier(n_neighbors=3)"
   ]
  },
  {
   "cell_type": "code",
   "execution_count": 12,
   "id": "7b0afe1d-d457-40bf-bc45-6db10a5ac762",
   "metadata": {},
   "outputs": [
    {
     "data": {
      "text/html": [
       "<style>#sk-container-id-1 {color: black;}#sk-container-id-1 pre{padding: 0;}#sk-container-id-1 div.sk-toggleable {background-color: white;}#sk-container-id-1 label.sk-toggleable__label {cursor: pointer;display: block;width: 100%;margin-bottom: 0;padding: 0.3em;box-sizing: border-box;text-align: center;}#sk-container-id-1 label.sk-toggleable__label-arrow:before {content: \"▸\";float: left;margin-right: 0.25em;color: #696969;}#sk-container-id-1 label.sk-toggleable__label-arrow:hover:before {color: black;}#sk-container-id-1 div.sk-estimator:hover label.sk-toggleable__label-arrow:before {color: black;}#sk-container-id-1 div.sk-toggleable__content {max-height: 0;max-width: 0;overflow: hidden;text-align: left;background-color: #f0f8ff;}#sk-container-id-1 div.sk-toggleable__content pre {margin: 0.2em;color: black;border-radius: 0.25em;background-color: #f0f8ff;}#sk-container-id-1 input.sk-toggleable__control:checked~div.sk-toggleable__content {max-height: 200px;max-width: 100%;overflow: auto;}#sk-container-id-1 input.sk-toggleable__control:checked~label.sk-toggleable__label-arrow:before {content: \"▾\";}#sk-container-id-1 div.sk-estimator input.sk-toggleable__control:checked~label.sk-toggleable__label {background-color: #d4ebff;}#sk-container-id-1 div.sk-label input.sk-toggleable__control:checked~label.sk-toggleable__label {background-color: #d4ebff;}#sk-container-id-1 input.sk-hidden--visually {border: 0;clip: rect(1px 1px 1px 1px);clip: rect(1px, 1px, 1px, 1px);height: 1px;margin: -1px;overflow: hidden;padding: 0;position: absolute;width: 1px;}#sk-container-id-1 div.sk-estimator {font-family: monospace;background-color: #f0f8ff;border: 1px dotted black;border-radius: 0.25em;box-sizing: border-box;margin-bottom: 0.5em;}#sk-container-id-1 div.sk-estimator:hover {background-color: #d4ebff;}#sk-container-id-1 div.sk-parallel-item::after {content: \"\";width: 100%;border-bottom: 1px solid gray;flex-grow: 1;}#sk-container-id-1 div.sk-label:hover label.sk-toggleable__label {background-color: #d4ebff;}#sk-container-id-1 div.sk-serial::before {content: \"\";position: absolute;border-left: 1px solid gray;box-sizing: border-box;top: 0;bottom: 0;left: 50%;z-index: 0;}#sk-container-id-1 div.sk-serial {display: flex;flex-direction: column;align-items: center;background-color: white;padding-right: 0.2em;padding-left: 0.2em;position: relative;}#sk-container-id-1 div.sk-item {position: relative;z-index: 1;}#sk-container-id-1 div.sk-parallel {display: flex;align-items: stretch;justify-content: center;background-color: white;position: relative;}#sk-container-id-1 div.sk-item::before, #sk-container-id-1 div.sk-parallel-item::before {content: \"\";position: absolute;border-left: 1px solid gray;box-sizing: border-box;top: 0;bottom: 0;left: 50%;z-index: -1;}#sk-container-id-1 div.sk-parallel-item {display: flex;flex-direction: column;z-index: 1;position: relative;background-color: white;}#sk-container-id-1 div.sk-parallel-item:first-child::after {align-self: flex-end;width: 50%;}#sk-container-id-1 div.sk-parallel-item:last-child::after {align-self: flex-start;width: 50%;}#sk-container-id-1 div.sk-parallel-item:only-child::after {width: 0;}#sk-container-id-1 div.sk-dashed-wrapped {border: 1px dashed gray;margin: 0 0.4em 0.5em 0.4em;box-sizing: border-box;padding-bottom: 0.4em;background-color: white;}#sk-container-id-1 div.sk-label label {font-family: monospace;font-weight: bold;display: inline-block;line-height: 1.2em;}#sk-container-id-1 div.sk-label-container {text-align: center;}#sk-container-id-1 div.sk-container {/* jupyter's `normalize.less` sets `[hidden] { display: none; }` but bootstrap.min.css set `[hidden] { display: none !important; }` so we also need the `!important` here to be able to override the default hidden behavior on the sphinx rendered scikit-learn.org. See: https://github.com/scikit-learn/scikit-learn/issues/21755 */display: inline-block !important;position: relative;}#sk-container-id-1 div.sk-text-repr-fallback {display: none;}</style><div id=\"sk-container-id-1\" class=\"sk-top-container\"><div class=\"sk-text-repr-fallback\"><pre>KNeighborsClassifier(n_neighbors=3)</pre><b>In a Jupyter environment, please rerun this cell to show the HTML representation or trust the notebook. <br />On GitHub, the HTML representation is unable to render, please try loading this page with nbviewer.org.</b></div><div class=\"sk-container\" hidden><div class=\"sk-item\"><div class=\"sk-estimator sk-toggleable\"><input class=\"sk-toggleable__control sk-hidden--visually\" id=\"sk-estimator-id-1\" type=\"checkbox\" checked><label for=\"sk-estimator-id-1\" class=\"sk-toggleable__label sk-toggleable__label-arrow\">KNeighborsClassifier</label><div class=\"sk-toggleable__content\"><pre>KNeighborsClassifier(n_neighbors=3)</pre></div></div></div></div></div>"
      ],
      "text/plain": [
       "KNeighborsClassifier(n_neighbors=3)"
      ]
     },
     "execution_count": 12,
     "metadata": {},
     "output_type": "execute_result"
    }
   ],
   "source": [
    "# Fit - treinamento\n",
    "neigh.fit(x,y)"
   ]
  },
  {
   "cell_type": "code",
   "execution_count": 13,
   "id": "5a099701-e54e-40ea-a749-478111658631",
   "metadata": {},
   "outputs": [
    {
     "data": {
      "text/plain": [
       "0.7907303370786517"
      ]
     },
     "execution_count": 13,
     "metadata": {},
     "output_type": "execute_result"
    }
   ],
   "source": [
    "neigh.score(x,y)"
   ]
  },
  {
   "cell_type": "code",
   "execution_count": 14,
   "id": "b0c6dafd-f046-4b0f-9798-ea55ccde39f6",
   "metadata": {},
   "outputs": [],
   "source": [
    "# Decision Tree\n",
    "from sklearn import tree\n",
    "clf = tree.DecisionTreeClassifier()\n",
    "clf = clf.fit(x,y)"
   ]
  },
  {
   "cell_type": "code",
   "execution_count": 15,
   "id": "1585ab73-3ab4-497f-9255-7e21f3b8e397",
   "metadata": {},
   "outputs": [
    {
     "data": {
      "text/plain": [
       "1.0"
      ]
     },
     "execution_count": 15,
     "metadata": {},
     "output_type": "execute_result"
    }
   ],
   "source": [
    "clf.score(x,y) "
   ]
  },
  {
   "cell_type": "code",
   "execution_count": 16,
   "id": "ebfc20ef-1c74-44ea-8f1d-6ca4b8dfbbb0",
   "metadata": {},
   "outputs": [],
   "source": [
    "# Regressao Logistica\n",
    "from sklearn.linear_model import LogisticRegression\n",
    "\n",
    "clfLog = LogisticRegression(random_state=0, max_iter=500).fit(x,y)"
   ]
  },
  {
   "cell_type": "code",
   "execution_count": 17,
   "id": "33a77457-d955-4c1d-b7a5-49dddf65e1af",
   "metadata": {},
   "outputs": [
    {
     "data": {
      "text/plain": [
       "0.7064606741573034"
      ]
     },
     "execution_count": 17,
     "metadata": {},
     "output_type": "execute_result"
    }
   ],
   "source": [
    "clfLog.score(x,y)"
   ]
  },
  {
   "cell_type": "code",
   "execution_count": 18,
   "id": "a14547e6-b6aa-4162-81a4-ac2cd8f9648a",
   "metadata": {},
   "outputs": [],
   "source": [
    "# Avaliando modelos \n",
    "teste = pd.read_csv('titanic_test.csv')"
   ]
  },
  {
   "cell_type": "code",
   "execution_count": 19,
   "id": "11b19b1c-3a11-4fa8-b4c1-55956740db57",
   "metadata": {},
   "outputs": [],
   "source": [
    "teste = teste.drop('Cabin', axis=1)\n",
    "teste = teste.dropna()"
   ]
  },
  {
   "cell_type": "code",
   "execution_count": 20,
   "id": "704d65b5-f4b4-4886-8762-d6697cf3b4bf",
   "metadata": {},
   "outputs": [],
   "source": [
    "teste = teste.drop(colunas, axis=1)"
   ]
  },
  {
   "cell_type": "code",
   "execution_count": 21,
   "id": "0728af88-341c-4a78-8847-a71b19a65fe2",
   "metadata": {},
   "outputs": [
    {
     "name": "stdout",
     "output_type": "stream",
     "text": [
      "<class 'pandas.core.frame.DataFrame'>\n",
      "Index: 331 entries, 0 to 415\n",
      "Data columns (total 7 columns):\n",
      " #   Column       Non-Null Count  Dtype  \n",
      "---  ------       --------------  -----  \n",
      " 0   PassengerId  331 non-null    int64  \n",
      " 1   Survived     331 non-null    int64  \n",
      " 2   Pclass       331 non-null    int64  \n",
      " 3   Age          331 non-null    float64\n",
      " 4   SibSp        331 non-null    int64  \n",
      " 5   Parch        331 non-null    int64  \n",
      " 6   Fare         331 non-null    float64\n",
      "dtypes: float64(2), int64(5)\n",
      "memory usage: 20.7 KB\n"
     ]
    }
   ],
   "source": [
    "# Verificar informações\n",
    "teste.info()"
   ]
  },
  {
   "cell_type": "code",
   "execution_count": 22,
   "id": "e03ae086-cb8e-47ac-aaf6-95820ac7f025",
   "metadata": {},
   "outputs": [],
   "source": [
    "x_teste = teste.drop('Survived', axis=1)\n",
    "y_teste = teste.Survived"
   ]
  },
  {
   "cell_type": "code",
   "execution_count": 47,
   "id": "3573a060-09a1-47b4-a9a7-7b1da97a5fec",
   "metadata": {},
   "outputs": [],
   "source": [
    "# Fazendo a predição com o KNN\n",
    "pred_KNN = neigh.predict(x_teste)"
   ]
  },
  {
   "cell_type": "code",
   "execution_count": 53,
   "id": "eaa55611-b93a-495e-be00-8db9abf874af",
   "metadata": {},
   "outputs": [],
   "source": [
    "# Predicao com decision tree\n",
    "pred_Arvore = clf.predict(x_teste)"
   ]
  },
  {
   "cell_type": "code",
   "execution_count": 57,
   "id": "3996c676-f075-46d5-9d64-0e934fc0bb8d",
   "metadata": {},
   "outputs": [],
   "source": [
    "# Predicao com regressao logistica\n",
    "pred_Log = clfLog.predict(x_teste)"
   ]
  },
  {
   "cell_type": "code",
   "execution_count": 59,
   "id": "33e3ea1f-4754-4d63-a2b8-665ab8d6410e",
   "metadata": {},
   "outputs": [],
   "source": [
    "# Matriz de confusão\n",
    "from sklearn.metrics import confusion_matrix"
   ]
  },
  {
   "cell_type": "code",
   "execution_count": 69,
   "id": "1004d7ca-c4f9-478d-b7b6-43a2cb7a00b6",
   "metadata": {},
   "outputs": [
    {
     "data": {
      "text/plain": [
       "array([[ 68, 136],\n",
       "       [ 35,  92]])"
      ]
     },
     "execution_count": 69,
     "metadata": {},
     "output_type": "execute_result"
    }
   ],
   "source": [
    "confusion_matrix(y_teste, pred_KNN)"
   ]
  },
  {
   "cell_type": "code",
   "execution_count": 65,
   "id": "99687a68-26e3-4d49-baab-79109ca31847",
   "metadata": {},
   "outputs": [
    {
     "data": {
      "text/plain": [
       "array([[116,  88],\n",
       "       [ 48,  79]])"
      ]
     },
     "execution_count": 65,
     "metadata": {},
     "output_type": "execute_result"
    }
   ],
   "source": [
    "confusion_matrix(y_teste, pred_Arvore)"
   ]
  },
  {
   "cell_type": "code",
   "execution_count": 67,
   "id": "524d5e65-c353-4702-ba13-8f3de54acf56",
   "metadata": {},
   "outputs": [
    {
     "data": {
      "text/plain": [
       "array([[131,  73],\n",
       "       [ 64,  63]])"
      ]
     },
     "execution_count": 67,
     "metadata": {},
     "output_type": "execute_result"
    }
   ],
   "source": [
    "confusion_matrix(y_teste, pred_Log)"
   ]
  },
  {
   "cell_type": "code",
   "execution_count": 81,
   "id": "3c987116-1141-4ce8-84dc-f8ffbed62f3f",
   "metadata": {},
   "outputs": [],
   "source": [
    "# Acuracia\n",
    "from sklearn.metrics import accuracy_score"
   ]
  },
  {
   "cell_type": "code",
   "execution_count": 75,
   "id": "b3061353-d04c-477d-99d3-5e7aa5388741",
   "metadata": {},
   "outputs": [
    {
     "data": {
      "text/plain": [
       "0.48338368580060426"
      ]
     },
     "execution_count": 75,
     "metadata": {},
     "output_type": "execute_result"
    }
   ],
   "source": [
    "accuracy_score(y_teste, pred_KNN)"
   ]
  },
  {
   "cell_type": "code",
   "execution_count": 77,
   "id": "9134d43b-a591-4cc5-a671-015902fbde81",
   "metadata": {},
   "outputs": [
    {
     "data": {
      "text/plain": [
       "0.5891238670694864"
      ]
     },
     "execution_count": 77,
     "metadata": {},
     "output_type": "execute_result"
    }
   ],
   "source": [
    "accuracy_score(y_teste, pred_Arvore)"
   ]
  },
  {
   "cell_type": "code",
   "execution_count": 79,
   "id": "20ca5095-174c-4a68-a574-9275ec24c24b",
   "metadata": {},
   "outputs": [
    {
     "data": {
      "text/plain": [
       "0.5861027190332326"
      ]
     },
     "execution_count": 79,
     "metadata": {},
     "output_type": "execute_result"
    }
   ],
   "source": [
    "accuracy_score(y_teste, pred_Log)"
   ]
  },
  {
   "cell_type": "code",
   "execution_count": 83,
   "id": "0d881e7f-ab25-4dc6-9067-852fd826669b",
   "metadata": {},
   "outputs": [],
   "source": [
    "# Recall\n",
    "from sklearn.metrics import recall_score"
   ]
  },
  {
   "cell_type": "code",
   "execution_count": 85,
   "id": "58f775ad-a6ba-40c3-a241-b700f2169a91",
   "metadata": {},
   "outputs": [
    {
     "data": {
      "text/plain": [
       "0.7244094488188977"
      ]
     },
     "execution_count": 85,
     "metadata": {},
     "output_type": "execute_result"
    }
   ],
   "source": [
    "recall_score(y_teste, pred_KNN)"
   ]
  },
  {
   "cell_type": "code",
   "execution_count": 87,
   "id": "6e2fb5ac-a9a4-454d-a15b-6543fad42187",
   "metadata": {},
   "outputs": [
    {
     "data": {
      "text/plain": [
       "0.6220472440944882"
      ]
     },
     "execution_count": 87,
     "metadata": {},
     "output_type": "execute_result"
    }
   ],
   "source": [
    "recall_score(y_teste, pred_Arvore)"
   ]
  },
  {
   "cell_type": "code",
   "execution_count": 89,
   "id": "fea51ca0-f9c3-40e5-b066-f8a4975bb9ef",
   "metadata": {},
   "outputs": [
    {
     "data": {
      "text/plain": [
       "0.49606299212598426"
      ]
     },
     "execution_count": 89,
     "metadata": {},
     "output_type": "execute_result"
    }
   ],
   "source": [
    "recall_score(y_teste, pred_Log)"
   ]
  }
 ],
 "metadata": {
  "kernelspec": {
   "display_name": "anaconda-panel-2023.05-py310",
   "language": "python",
   "name": "conda-env-anaconda-panel-2023.05-py310-py"
  },
  "language_info": {
   "codemirror_mode": {
    "name": "ipython",
    "version": 3
   },
   "file_extension": ".py",
   "mimetype": "text/x-python",
   "name": "python",
   "nbconvert_exporter": "python",
   "pygments_lexer": "ipython3",
   "version": "3.11.5"
  }
 },
 "nbformat": 4,
 "nbformat_minor": 5
}
